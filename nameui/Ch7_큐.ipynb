{
 "cells": [
  {
   "cell_type": "markdown",
   "metadata": {},
   "source": [
    "# 문제 15) 요세푸스 문제 "
   ]
  },
  {
   "cell_type": "code",
   "execution_count": 9,
   "metadata": {},
   "outputs": [],
   "source": [
    "def solution(N, K):\n",
    "    arr = [True] * N # boolean 타입 배열\n",
    "    base = 0 # 기준 인덱스\n",
    "    deletionTarget = (base + K - 1) % N # 지울 대상 인덱스\n",
    "\n",
    "    # N - 1 번 반복 : 한 차례당 하나씩 지우므로 결국 최종적으로 남아야 하는 것은 하나 이므로 N-1 번 돎\n",
    "    for _ in range(len(arr)-1):\n",
    "\n",
    "        # 기준 인덱스가 이미 지워진 인덱스라면 그 다음 인덱스부터 찾으면서 반복\n",
    "        # 최악의 경우 N-2 번 돌 수 있음\n",
    "        while not arr[base]:\n",
    "            base = (base + 1) % N\n",
    "            deletionTarget = (base + K - 1) % N\n",
    "\n",
    "        # 지울 대상 인덱스가 이미 지워진 인덱스라면 그 다음으로 지울 인덱스부터 찾으면서 반복\n",
    "        # 최악의 경우 N-2 번 돌 수 있음\n",
    "        while not arr[deletionTarget]:\n",
    "            deletionTarget = (deletionTarget + 1) % N\n",
    "\n",
    "        # 지울 대상 인덱스 False 로 지움 처리\n",
    "        arr[deletionTarget] = False\n",
    "        \n",
    "        # 기준이랑, 지울 대상 업데이트\n",
    "        base = (deletionTarget + 1) % N\n",
    "        deletionTarget = (base + K - 1) % N\n",
    "\n",
    "    # N 번 반복해서 최종으로 남은 인덱스 반환\n",
    "    for j in range(len(arr)):\n",
    "        if arr[j]:\n",
    "            return j+1"
   ]
  },
  {
   "cell_type": "code",
   "execution_count": 10,
   "metadata": {},
   "outputs": [
    {
     "name": "stdout",
     "output_type": "stream",
     "text": [
      "1\n"
     ]
    }
   ],
   "source": [
    "print(solution(10, 3))"
   ]
  },
  {
   "cell_type": "code",
   "execution_count": 20,
   "metadata": {},
   "outputs": [
    {
     "name": "stdout",
     "output_type": "stream",
     "text": [
      "4\n"
     ]
    }
   ],
   "source": [
    "from collections import deque\n",
    "\n",
    "def solution(N, K):\n",
    "    #❶ 1부터 N까지의 번호를 deque에 추가\n",
    "    queue = deque(range(1, N+1))\n",
    "\n",
    "    while len(queue) > 1: #❷ deque에 하나의 요소가 남을 때까지\n",
    "        for _ in range(K-1):\n",
    "            queue.append(queue.popleft()) #❸ K번째 요소를 찾기 위해 앞에서부터 제거하고 뒤에 추가\n",
    "        queue.popleft() #❹ K번째 요소 제거\n",
    "    return queue[0] #❺ 마지막으로 남은 요소 반환\n",
    "    \n",
    "    \n",
    "print(solution(5,2))"
   ]
  }
 ],
 "metadata": {
  "kernelspec": {
   "display_name": "Python 3",
   "language": "python",
   "name": "python3"
  },
  "language_info": {
   "codemirror_mode": {
    "name": "ipython",
    "version": 3
   },
   "file_extension": ".py",
   "mimetype": "text/x-python",
   "name": "python",
   "nbconvert_exporter": "python",
   "pygments_lexer": "ipython3",
   "version": "3.9.6"
  }
 },
 "nbformat": 4,
 "nbformat_minor": 2
}
