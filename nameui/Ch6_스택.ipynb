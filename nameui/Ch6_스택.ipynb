{
 "cells": [
  {
   "cell_type": "markdown",
   "metadata": {},
   "source": [
    "# 개념 정리"
   ]
  },
  {
   "cell_type": "markdown",
   "metadata": {},
   "source": [
    "## 스택 개념\n",
    "\n",
    "- FILO : 먼저 들어간 것이 마지막에 나오는 규칙을 가지는 자료구조\n",
    "- 스택에 삽입하는 연산 → `push()` / 꺼내는 연산 `pop()`\n",
    "\n",
    "## 스택의 정의\n",
    "\n",
    "- 스택의 ADT 를 정의해보고, 실제 스택이 동작하는 원리 설명할 것\n",
    "- ADT : 추상 자료형, 자료형의 설계도\n",
    "\n",
    "> 파이썬의 경우 스택을 제공하지는 않지만, 대안으로 리스트 메서드인 `append()`, `push()` 메서드로 스택 대체 가능\n",
    "\n",
    "스택(stack)은 한쪽으로만 데이터 삽입, 삭제할 수 있는 자료구조\n",
    "덱(deque)은 양쪽에서 데이터 삽입, 삭제 가능한 자료구조\n",
    "> \n",
    "\n",
    "### 스택의 ADT\n",
    "\n",
    "- 스택에는 아래와 같은 연산이 꼭 정의되어야 함\n",
    "    1. 푸시(`push`)\n",
    "        - 스택에 데이터를 푸시\n",
    "    2. 팝(`pop`)\n",
    "        - 스택에서 최근에 푸시한 데이터를 팝하고, 그 데이터를 반환\n",
    "    3. 가득 찼는지 확인(`isFull`)\n",
    "        - 스택에 들어있는 데이터 개수가 maxsize 인지 확인하고 boolean 값을 반환\n",
    "        - 가득 차 있다면 True, 아니면 False\n",
    "    4. 비었는지 확인(`isEmpty`)\n",
    "        - 스택에 들어 있는 데이터가 하나도 없는지 확인하여 boolean 값 반환\n",
    "        - 데이터가 하나라도 있으면 False, 비어있으면 True\n",
    "- 추가로 변수(상태)도 정의되어 있는 것이 있음\n",
    "    1. 최근에 삽입한 데이터의 위치를 저장할 변수인 `top` 정의\n",
    "        - 스택에서 최근에 푸시한 데이터의 위치 기록\n",
    "        - **초기값을 0이 아니라 -1 로 지정**\n",
    "\n",
    "### 스택 세부 동작\n",
    "\n",
    "**스택에 데이터를 추가하는 경우**\n",
    "\n",
    "`push(3)`\n",
    "\n",
    "1. IsFull() 수행하여 data 배열에 데이터가 가득 찼는지 확인\n",
    "2. 그렇지 않다면 top 을 +1 로 증가시킨 후, top 이 가기키는 위치 data[0] 에 3을 추가\n",
    "\n",
    "**스택에서 데이터를 빼는 경우**\n",
    "\n",
    "`pop()`\n",
    "\n",
    "1. IsEmpty() 수행하여 data 배열에 데이터가 없는지 확인\n",
    "2. 데이터가 있다면 top -1 감소시키고, data[0] 반환\n",
    "    \n",
    "    → 이 경우 data 배열에 데이터가 남아있긴 하지만(삭제하는 건 아니므로), top 이 가리키는 위치가 -1이기 때문에 스택은 비어있다고 봐도 무방\n",
    "    \n",
    "\n",
    "### 스택 구현하기\n",
    "\n",
    "- 문제에서 데이터를 순서와 상관없이 임의 접근하기만 해도 되면 배열을 사용하면 되지만, 최근에 삽입한 데이터를 대상으로 연산해야 한다면 스택을 떠올리는 것이 좋음\n",
    "\n",
    "```python\n",
    "stack = []\n",
    "max_size = 10\n",
    "\n",
    "def isFull(stack):\n",
    "\treturn len(stack) == max_size\n",
    "\n",
    "def isEmpty(stack):\n",
    "\treturn len(stack) == 0\n",
    "\n",
    "def push(stack, item):\n",
    "\tif isFull(stack):\n",
    "\t\tprint(\"스택이 가득 찼습니다.\")\n",
    "\telse:\n",
    "\t\tstack.append(item)\n",
    "\t\tprint(\"데이터가 추가되었습니다.\")\n",
    "\n",
    "def pop(stack):\n",
    "\tif isEmpty(stack):\n",
    "\t\tprint(\"스택이 비어 있습니다.\")\n",
    "\t\treturn Noen\n",
    "\telse:\n",
    "\t\treturn stack.pop()\n",
    "```\n",
    "\n",
    "<aside>\n",
    "✅ 스택이 비는 경우를 꼭 처리하기!\n",
    "\n",
    "</aside>"
   ]
  },
  {
   "cell_type": "markdown",
   "metadata": {},
   "source": [
    "# 주식 가격"
   ]
  },
  {
   "cell_type": "markdown",
   "metadata": {},
   "source": [
    "## O($N^2$)"
   ]
  },
  {
   "cell_type": "code",
   "execution_count": 1,
   "metadata": {},
   "outputs": [],
   "source": [
    "def solution(prices):\n",
    "    p_num = len(prices)\n",
    "    stack = [0]\n",
    "    result = [0] * p_num\n",
    "\n",
    "    # i 번째 원소를\n",
    "    for i in range(p_num):\n",
    "        # 바로 뒤 j 번째부터 차례로 비교하여\n",
    "        for j in range(i+1, p_num):\n",
    "            # prices[j] 가 더 크면, 가격이 하락한 지점이므로 j-i 로 인덱스 계산하여 유지한 시간을 구함\n",
    "            if prices[i] > prices[j]:\n",
    "                result[i] = j-i\n",
    "                break\n",
    "            \n",
    "            # 이전 가격이 이후 가격보다 크다면 계속 유지한 것이므로 j-i 로 유지한 시간 업데이트\n",
    "            result[i] = j-i\n",
    "\n",
    "    return result\n",
    "            "
   ]
  },
  {
   "cell_type": "markdown",
   "metadata": {},
   "source": [
    "## O($N$)"
   ]
  },
  {
   "cell_type": "code",
   "execution_count": 2,
   "metadata": {},
   "outputs": [
    {
     "name": "stdout",
     "output_type": "stream",
     "text": [
      "[4, 3, 1, 1, 0]\n"
     ]
    }
   ],
   "source": [
    "def solution(prices):\n",
    "    p_num = len(prices)\n",
    "    stack = [0] # 가장 처음 인덱스\n",
    "    result = [0] * p_num\n",
    "\n",
    "    # 1 ~ prices 개수만큼 돈면서(0 부터 안도는 이유는 이미 stack 에 0, 가장 처음 원소를 저장해놨기 때문)\n",
    "    for i in range(1, p_num):\n",
    "        # 만약 stack 에 저장한 index 의 prices 값이 현재 prices[i] 크다면\n",
    "        if prices[stack[-1]] > prices[i]:\n",
    "            # stack 이 비지 않고, prices[stack 에 저장한 index 가장 위의 값] 이 현재 prices[i] 보다 클때까지\n",
    "            while stack and prices[stack[-1]] > prices[i]:\n",
    "                # 결과에 stack 의 가장 마지막 index 에 해당하는 result 위치에 현재 원소 - stack 에 저장된 가장 최근 인덱스를 빼서 저장한다.\n",
    "                result[stack.pop()] = i - stack[-1]\n",
    "        ₩\n",
    "        # 만약 stack 에 저장한 가장 최근 index 의 값이 현재 prices[i] 보다 작거나 같다면 stack 에 현재 i 값을 넣는다.\n",
    "        stack.append(i)\n",
    "    \n",
    "    s_num = len(stack)\n",
    "\n",
    "    # stack 에 저장되어 있는, 이후 원소보다 계속 작았던 값들은\n",
    "    # prices 전체 길이 - 해당 인덱스 이 값을 업데이트 해줌\n",
    "    for i in range(s_num):\n",
    "        result[stack.pop()] = p_num - 1 - stack[-1]\n",
    "\n",
    "    return result\n",
    "\n",
    "print(solution([1,2,3,2,3]))"
   ]
  },
  {
   "cell_type": "markdown",
   "metadata": {},
   "source": [
    "### 시간 복잡도\n",
    "\n",
    "- 첫 번째 for 문 : prices 리스트의 모든 요소를 한 번씩 순회, 즉 $O(N)$\n",
    "- while 문 : prices 리스트의 모든 요소를 한 번씩 순회, 즉, $O(N)$\n",
    "- 두 번째 for 문 : 이 루프는 최악의 경우 스택에 들어 있는 인덱스들을 한 번씩 꺼내는 작업이므로 $O(N)$\n",
    "\n",
    "#### 왜 첫 번째 for 문과 while 루프는 중첩인데, $O(N^2)$ 이 아니지?\n",
    "\n",
    "- while 문이 for 문의 index 마다 N 번 반복하는 것이 아니라, 전체적으로 모든 반복을 합쳐서 N 번만 발생하기 때문에\n",
    "- 즉, while 문은 prices 의 각 요소가 스택에 한 번 들어가고 한 번만 나오는 구조(한 번 들어갔다 나오면 고려 대상이 아닌 것)\n",
    "- 그래서 최종적으로 시간 복잡도가 $O(N)$ 이 나오는 것"
   ]
  },
  {
   "cell_type": "markdown",
   "metadata": {},
   "source": [
    "# 크레인 인형 뽑기 게임"
   ]
  },
  {
   "cell_type": "markdown",
   "metadata": {},
   "source": [
    "## $O(N^2 + M)$"
   ]
  },
  {
   "cell_type": "code",
   "execution_count": null,
   "metadata": {},
   "outputs": [],
   "source": [
    "def solution(board, moves):\n",
    "    box = [] \n",
    "    count = 0 # 같은 인형이 두 개 연속으로 쌓이면 제거되늰데, 몇 개의 인형이 없어졌는지 기록하는 변수\n",
    "    n = len(board[0]) # 보드의 가로 길이(열의 개수)\n",
    "    transpose = [] # 세로 방향으로 뽑아야 하므로 행과 열을 바꾼 새로운 배열\n",
    "\n",
    "    # 행렬 바꿈\n",
    "    for i in range(n):\n",
    "        temp = []\n",
    "        # 마지막 원소부터 차례로 감소\n",
    "        for j in range(-1, -n-1, -1):\n",
    "            if board[j][i] != 0: # 0 값 제거\n",
    "                temp.append(board[j][i])\n",
    "        transpose.append(temp)\n",
    "\n",
    "    # 크레인이 움직이며 인형을 뽑는 과정\n",
    "    # moves 리스트의 각 값을 순회하며, 그 값에 해당하는 열에서 인형을 뽑는 작업\n",
    "    for value in moves:\n",
    "        # 상자가 비어있지 않고, 해당 열이 비어있지 않고, 뽑은 인형이 상자 맨 위에 있는 인형과 같으면\n",
    "        if box and transpose[value-1] and transpose[value-1][-1] == box[-1]:\n",
    "            # 인형을 제거하고, 상자 가장 위의 인형을 제거, 그리고 카운트 2만큼 증가(같은 인형 두 개가 사라짐으로)\n",
    "            transpose[value-1].pop()\n",
    "            box.pop()\n",
    "            count += 2\n",
    "        \n",
    "        # 해당 열에 인형이 있으면, 그 인형을 상자에 추가\n",
    "        elif transpose[value-1]:\n",
    "            box.append(transpose[value-1].pop())\n",
    "    \n",
    "    return count\n",
    "\n",
    "# board = [[0,0,0,0,0],[0,0,1,0,3],[0,2,5,0,1],[4,2,4,4,2],[3,5,1,3,1]]\n",
    "board = [[1, 0, 0, 0, 0], [2, 0, 0, 0, 0], [2, 0, 0, 0, 0], [1, 0, 0, 0, 0], [3, 0, 0, 0, 0]]\n",
    "\n",
    "moves = [1,1,1,1]\n",
    "print(solution(board, moves))"
   ]
  },
  {
   "cell_type": "markdown",
   "metadata": {},
   "source": [
    "### 시간 복잡도\n",
    "1. 전치행렬 처리\n",
    "    - transpose 리스트를 생성하는 부분 이중 루프로 $N^2$\n",
    "    - N 은 board 의 한 번의 크기\n",
    "2. 인형 뽑는 루프\n",
    "    - moves 리스트 순회하면서, 각 열에 대해 인형을 꺼내거나 상자에서 제거하는 작업 수행\n",
    "    - $M$ 의 시간 복잡도"
   ]
  },
  {
   "cell_type": "markdown",
   "metadata": {},
   "source": [
    "# 표 편집"
   ]
  },
  {
   "cell_type": "code",
   "execution_count": null,
   "metadata": {},
   "outputs": [],
   "source": [
    "def solution(n, k, cmd):\n",
    "    deleted = []\n",
    "\n",
    "    up = [i - 1 for i in range(n+2)]\n",
    "    down = [i + 1 for i in range(n+1)]\n",
    "\n",
    "    # 현재 위치를 나타내는 인덱스\n",
    "    k += 1\n",
    "\n",
    "    # 주어진 명령어(cmd) 리스트를 하나씩 처리\n",
    "    for value in cmd:\n",
    "        # 현재 위치를 삭제하고 그 다음 위치로 이동\n",
    "        if value.startswith(\"C\"):\n",
    "            deleted.append(k)\n",
    "            up[down[k]] = up[k]\n",
    "            down[up[k]] = down[k]\n",
    "\n",
    "            k = up[k] if n < down[k] else down[k] # n < down[k] 즉, 현재 위치의 아래가 n 보다 크면 현재 위치가 마지막 행인 것이므로 up[k] 로 k 를 갱신, 아니라면 down[k] 로 k 를 갱신\n",
    "        \n",
    "        # 가장 최근에 삭제된 행을 복원\n",
    "        elif value.startswith(\"Z\"):\n",
    "            restore = deleted.pop()\n",
    "            down[up[restore]] = restore\n",
    "            up[down[restore]] = restore\n",
    "\n",
    "        # U 또는 D 를 사용하여 현재 위치를 아래로 이동\n",
    "        else:\n",
    "            action, num = value.split(\" \")\n",
    "\n",
    "            if action == \"U\":\n",
    "                for _  in range(int(num)):\n",
    "                    k = up[k] # 상대적 위치로 해놓은 리스트를 통해 이동한 현재 위치 반영해주는 것(입력된 숫자만큼)\n",
    "            elif action == \"D\":\n",
    "                for _ in range(int(num)):\n",
    "                    k = down[k] # 상대적 위치로 해놓은 리스트를 통해 이동한 현재 위치 반영해주는 것(입력되 숫자만큼)\n",
    "    \n",
    "    # 삭제된 행의 위치에 'X' 를, 그렇지 않은 행의 위치에 'O'를 포함하는 문자열 반환\n",
    "    result = [\"O\"] * n\n",
    "\n",
    "    for index in deleted:\n",
    "        result[index - 1] = \"X\"\n",
    "    \n",
    "    return \"\".join(result)\n",
    "\n",
    "cmd = [\"D 2\",\"C\",\"U 3\",\"C\",\"D 4\",\"C\",\"U 2\",\"Z\",\"Z\",\"U 1\",\"C\"]\n",
    "print(solution(8,2,cmd))"
   ]
  }
 ],
 "metadata": {
  "kernelspec": {
   "display_name": "Python 3",
   "language": "python",
   "name": "python3"
  },
  "language_info": {
   "codemirror_mode": {
    "name": "ipython",
    "version": 3
   },
   "file_extension": ".py",
   "mimetype": "text/x-python",
   "name": "python",
   "nbconvert_exporter": "python",
   "pygments_lexer": "ipython3",
   "version": "3.11.9"
  }
 },
 "nbformat": 4,
 "nbformat_minor": 2
}
