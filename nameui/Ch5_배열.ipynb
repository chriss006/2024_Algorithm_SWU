{
 "cells": [
  {
   "cell_type": "markdown",
   "metadata": {},
   "source": [
    "# 행렬의 곱셈"
   ]
  },
  {
   "cell_type": "code",
   "execution_count": null,
   "metadata": {},
   "outputs": [],
   "source": [
    "def solution(arr1, arr2):\n",
    "    \n",
    "    rows = len(arr1)\n",
    "    cols = len(arr2[0])\n",
    "    value_num = len(arr2)\n",
    "    \n",
    "    answer = []\n",
    "\n",
    "    for _ in range(rows):\n",
    "        temp = []\n",
    "        for _ in range(cols):\n",
    "            temp.append(0)\n",
    "\n",
    "        answer.append(temp)\n",
    "\n",
    "    arr2 = list(zip(*arr2))\n",
    "    \n",
    "    for i1 in range(rows):\n",
    "        for i2 in range(cols):\n",
    "            for i3 in range(value_num):\n",
    "                answer[i1][i2] += arr1[i1][i3] * arr2[i2][i3]\n",
    "    \n",
    "    return answer"
   ]
  },
  {
   "cell_type": "markdown",
   "metadata": {},
   "source": [
    "`rows = len(arr1)` \n",
    "\n",
    "⇒ 실제 반환될 2차원 배열의 행 : a x b 와 c x d 차원의 행렬의 결과는, a(첫 번째 배열의 행의 개수) x d 의 크기로 나오므로\n",
    "\n",
    "`cols = len(arr2[0])`\n",
    "\n",
    "⇒ 실제 반환될 2차원 배열의 열 : a x b 와 c x d 차원의 행렬의 결과는, a x d(두 번째 배열의 열의 개수) 의 크기로 나오므로\n",
    "\n",
    "`value_num = len(arr2)`\n",
    "\n",
    "⇒ 실제 연산하게 되는 횟수 : a x b 와 c x d 차원일 때, b 와 c 가 같아야 하는데 그 이유는 계산하는 원소들이기 때문에 이게 일치해야 연산이 됨. 그래서 c(두 번째 배열의 행의 개수)로 지정해준 것\n",
    "\n",
    "`arr2 = list(zip(*arr2))`\n",
    "\n",
    "⇒ 전치를 이용하여 연산해야 하는 숫자들의 위치를 똑같이 만들기"
   ]
  },
  {
   "cell_type": "markdown",
   "metadata": {},
   "source": [
    "# 실패율"
   ]
  },
  {
   "cell_type": "code",
   "execution_count": null,
   "metadata": {},
   "outputs": [],
   "source": [
    "def solution(N, stages):\n",
    "    answer = [0] * (N+1) # 마지막 스테이지를 통과한 사람들의 수까지 카운트하기 위해 N+1 까지 만든 것\n",
    "    fail_rate = []\n",
    "    players = len(stages)\n",
    "    \n",
    "    \n",
    "    for i in range(players):\n",
    "        answer[stages[i] - 1] += 1\n",
    "    \n",
    "    front_player = 0\n",
    "    for i in range(len(answer)-1):\n",
    "        \n",
    "        if answer[i] == 0:\n",
    "            fail = 0\n",
    "        else:\n",
    "            fail = answer[i] / (players - front_player)\n",
    "        \n",
    "        fail_rate.append([i+1, fail])\n",
    "        front_player += answer[i]\n",
    "        \n",
    "    result = list(zip(*sorted(fail_rate, key = lambda x:(-x[1], x[0]))))\n",
    "    \n",
    "    return result[0]"
   ]
  },
  {
   "cell_type": "markdown",
   "metadata": {},
   "source": [
    "### 설명\n",
    "```python\n",
    "if answer[i] == 0:\n",
    "            fail = 0\n",
    "else:\n",
    "            fail = answer[i] / (players - front_player)\n",
    "```\n",
    "\n",
    "- answer[i], 즉 현재 스테이지에 있는 사용자가 없을 경우 어차피 실패율 결과는 0이 나올 것이므로 fail 계산하지 않음\n",
    "- 그리고 반례를 방지하는 로직\n",
    "    \n",
    "    `6, [2, 2, 2, 2, 2, 2, 2, 2, 2] → [2, 1, 3, 4, 5, 6]`\n",
    "    \n",
    "    여기서 `divison zero` 오류가 나는데, 2번째 라운드에 사용자가 몰려 있고, 여기서 통과가 안됨으로 뒤 라운드 실패율 계산할 때 이 라운드에 도달한 사람이 없으므로 아예 계산할 수가 없는 것.\n",
    "    \n",
    "    - 즉 경우 중에 ‘아직 아무도 도달하지 않은 라운드 실패율 계산’를 고려하지 못한 것.\n",
    "        \n",
    "        > 1. 스테이지에 도달한 유저가 없는 경우 해당 스테이지의 실패율은 `0` 으로 정의한다.\n",
    "        > 2. 실패율은 다음과 같이 정의한다.<br>\n",
    "        > 스테이지에 도달했으나 아직 클리어하지 못한 플레이어의 수 / 스테이지에 도달한 플레이어 수<br>\n",
    "        여기서 스테이지에 도달한 플레이어 수가 없을 때는 0으로 나누게 되는 것. division by zero 오류 발생\n",
    "\n",
    "        \n",
    "        → 이 조건을 보고 떠올렸어야 하는 지점\n",
    "        \n",
    "\n",
    "```python\n",
    "for i in range(len(answer)-1):\n",
    "        \n",
    "        if answer[i] == 0:\n",
    "            fail = 0\n",
    "        else:\n",
    "            fail = answer[i] / (players - front_player)\n",
    "        \n",
    "        fail_rate.append([i+1, fail])\n",
    "        front_player += answer[i]\n",
    "```\n",
    "\n",
    "- `len(answer)-1` ⇒ 처음에 len(answer) 로만 설정\n",
    "    \n",
    "    → 만약 라운드가 총 4개라면, 라운드 5 까지 가상으로 만들어놓는데, 실제로는 라운드 5가 없는 것\n",
    "    \n",
    "    → 그래서 라운드 5까지 집계가 되어 결과가 다르게 나옴\n",
    "\n",
    "### 추가한 반례\n",
    "![테스트 케이스 추가](/Users/onam-ui/Desktop/Project/Algorithm/study/2024_Algorithm_SWU/nameui/image.png)\n",
    "\n",
    "### 시간복잡도\n",
    "M(전체 플레이어 수) + NlogN(스테이지 수)"
   ]
  },
  {
   "cell_type": "markdown",
   "metadata": {},
   "source": [
    "# 방문 길이"
   ]
  },
  {
   "cell_type": "code",
   "execution_count": null,
   "metadata": {},
   "outputs": [],
   "source": [
    "def solution(dirs):\n",
    "    \n",
    "    dirs = list(dirs)\n",
    "    now = [0, 0]\n",
    "    route = []\n",
    "    count = 0\n",
    "    \n",
    "    for dir in dirs:\n",
    "        if dir == 'U':\n",
    "            if now[1] == 5:\n",
    "                continue\n",
    "\n",
    "            next_now = [now[0], now[1] + 1]\n",
    "            new_route = [now, next_now]\n",
    "            new_route_reverse = [next_now, now]\n",
    "            \n",
    "            now = next_now\n",
    "\n",
    "        elif dir == 'D':\n",
    "            if now[1] == -5:\n",
    "                continue\n",
    "            \n",
    "            next_now = [now[0], now[1] - 1]\n",
    "            new_route = [now, next_now]\n",
    "            new_route_reverse = [next_now, now]\n",
    "            \n",
    "            now = next_now\n",
    "        elif dir == 'R':\n",
    "            if now[0] == 5:\n",
    "                continue\n",
    "            \n",
    "            next_now = [now[0] + 1, now[1]]\n",
    "            new_route = [now, next_now]\n",
    "            new_route_reverse = [next_now, now]\n",
    "            \n",
    "            now = next_now\n",
    "            \n",
    "        elif dir == 'L':\n",
    "            if now[0] == -5:\n",
    "                continue\n",
    "\n",
    "            next_now = [now[0] - 1, now[1]]\n",
    "            new_route = [now, next_now]\n",
    "            new_route_reverse = [next_now, now]\n",
    "            \n",
    "            now = next_now\n",
    "        \n",
    "        if new_route not in route or new_route_reverse not in route:\n",
    "            count += 1\n",
    "            route.append(new_route)\n",
    "            route.append(new_route_reverse)\n",
    "            \n",
    "    \n",
    "    return count"
   ]
  },
  {
   "cell_type": "markdown",
   "metadata": {},
   "source": [
    "### 로직 설명\n",
    "\n",
    "1. 방향 검사\n",
    "2. 방향에 따라 끝단인지 확인\n",
    "3. 끝이 아니면 방향에 따라 +1\n",
    "4. 새로운 경로, 새로운 경로의 출발 위치와 도착 위치를 바꾼 것도 저장해둠\n",
    "5. now 갱신\n",
    "6. not in 연산자로 새로운 경로, 새로운 경로 리버스가 route 리스트에 없다는 것을 확인\n",
    "    - 그럼 count += 1, route 에 두 경로 모두 append\n",
    "        \n",
    "        A → B / B → A 모두 같은 길이므로 둘 다 저장해줌\n",
    "        \n",
    "7. 최종적으로 count 리턴\n",
    "\n",
    "### 시간 복잡도 분석\n",
    "\n",
    "$N^2$"
   ]
  },
  {
   "cell_type": "markdown",
   "metadata": {},
   "source": [
    "## 다른 풀이"
   ]
  },
  {
   "cell_type": "code",
   "execution_count": 1,
   "metadata": {},
   "outputs": [],
   "source": [
    "def solution(dirs):\n",
    "    dirs = list(dirs)\n",
    "    loc = {'U':(1, 0), 'D':(-1, 0), 'R':(0, 1), 'L':(0, -1)}\n",
    "    x, y = 0, 0\n",
    "    route = set()\n",
    "\n",
    "    for dir in dirs:\n",
    "        dx, dy = loc[dir]\n",
    "        nx, ny = x+dx, y+dy\n",
    "\n",
    "        if abs(nx) <= 5 and abs(ny) <= 5:\n",
    "            route.add((x, y, nx, ny))\n",
    "            route.add((nx, ny, x, y))\n",
    "\n",
    "            x, y = nx, ny\n",
    "    \n",
    "    return len(route) // 2"
   ]
  },
  {
   "cell_type": "code",
   "execution_count": 3,
   "metadata": {},
   "outputs": [
    {
     "name": "stdout",
     "output_type": "stream",
     "text": [
      "5\n"
     ]
    }
   ],
   "source": [
    "print(solution(\"RRRRRRLLLLL\"))"
   ]
  },
  {
   "cell_type": "markdown",
   "metadata": {},
   "source": [
    "### 개선 사항\n",
    "1. set 을 이용하여 시간 복잡도 O(N) 으로 개선\n",
    "    - 중복을 체크할 필요가 없어지므로 not in 연산자 사용 X\n",
    "\n",
    "2. dict 타입을 이용하여 if 문으로 인한 가독성 저하 해결"
   ]
  }
 ],
 "metadata": {
  "kernelspec": {
   "display_name": "Python 3",
   "language": "python",
   "name": "python3"
  },
  "language_info": {
   "codemirror_mode": {
    "name": "ipython",
    "version": 3
   },
   "file_extension": ".py",
   "mimetype": "text/x-python",
   "name": "python",
   "nbconvert_exporter": "python",
   "pygments_lexer": "ipython3",
   "version": "3.11.9"
  }
 },
 "nbformat": 4,
 "nbformat_minor": 2
}
