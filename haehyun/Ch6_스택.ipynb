{
 "cells": [
  {
   "cell_type": "markdown",
   "metadata": {},
   "source": [
    "# Chapter 6. Stack"
   ]
  },
  {
   "cell_type": "markdown",
   "metadata": {},
   "source": [
    "## 1. Stack 개념 및 특징\n",
    "- 선입후출(First In Last OUT) 자료구조\n",
    "- 삽입 연산은 Push, 꺼내는 연산은 Pop이라고 정의 "
   ]
  },
  {
   "cell_type": "markdown",
   "metadata": {},
   "source": [
    "## 2. Stack의 ADT(Abstract Data Type)\n",
    "- 파이썬에서 스택은 리스트의 메서드인 append(), push() 메서드로 ADT를 대체할 수 있음.\n",
    "- 먼저, stack에서는 push, pop, isFull, isEmpty 메서드를 정의해야함 \n",
    "- 가장 최근 삽입한 데이터의 위치(index)를 알려주는 변수인 top을 정의해야함 \n",
    "- maxsize-1 부터 0까지 차례로 데이터가 삽입됨\n",
    "- 스택에 데이터가 삽입되지 않았을때는 top에 -1 입력"
   ]
  },
  {
   "cell_type": "code",
   "execution_count": 8,
   "metadata": {},
   "outputs": [],
   "source": [
    "stack = []\n",
    "max_size = 10\n",
    "top = -1\n",
    "\n",
    "def isFull(stack):\n",
    "    # 스택이 가득 찼는지 확인하는 함수\n",
    "    return len(stack) == max_size\n",
    "\n",
    "def isEmpty(stack):\n",
    "    # 스택이 비었는지 확인하는 함수\n",
    "    return len(stack) == 0\n",
    "\n",
    "def push(stack, item):\n",
    "    if isFull(stack):\n",
    "        print('스택이 가득 찼습니다.')\n",
    "    else:\n",
    "        stack.append(item)\n",
    "        print('데이터가 추가되었습니다.')\n",
    "        top += 1\n",
    "\n",
    "def pop(stack):\n",
    "    if isEmpty(stack):\n",
    "        print('스택이 비어있습니다.')\n",
    "        return None\n",
    "    else:\n",
    "        top -= 1\n",
    "        return stack.pop()"
   ]
  },
  {
   "cell_type": "code",
   "execution_count": 11,
   "metadata": {},
   "outputs": [
    {
     "name": "stdout",
     "output_type": "stream",
     "text": [
      "3\n",
      "2\n"
     ]
    }
   ],
   "source": [
    "stack = []\n",
    "\n",
    "# 스택에 데이터 추가\n",
    "stack.append(1)\n",
    "stack.append(2)\n",
    "stack.append(3)\n",
    "\n",
    "# 스택에서 데이터 꺼냄\n",
    "top_element = stack.pop()\n",
    "next_element = stack.pop()\n",
    "\n",
    "# 스택 크기를 구함\n",
    "stack_size = len(stack)\n",
    "\n",
    "print(top_element)\n",
    "print(next_element)"
   ]
  },
  {
   "cell_type": "markdown",
   "metadata": {},
   "source": [
    "### 문제 11  - 짝지어 제거하기\n",
    "- 권장 시간복잡도 : O(N) <br>\n",
    "\n",
    "**[문제풀이]**\n",
    "- 만약 문자열의 현재문자와 스택의 가장 위의 문자가 같다면 pop 해서 겹치는 문자 빼기\n",
    "- 겹치지 않는다면 append() 로 스택에 집어 넣기\n",
    "- 권장 시간복잡도가 O(N)이기 때문에 주어진 문자열을 1번 순회하는게 최대 연산"
   ]
  },
  {
   "cell_type": "code",
   "execution_count": 18,
   "metadata": {},
   "outputs": [],
   "source": [
    "def solution(sentence):\n",
    "    stack = []\n",
    "    for s in sentence: # 주어진 문자열 순회 - O(N)\n",
    "        # 스택이 비어있지 않고, 현재 문자와 스택의 맨 위 문자가 같으면\n",
    "        if stack and stack[-1] == s: # 스택이 비어있지 않고, 맨 위의 요소가 현재문자랑 같으면 - O(1)\n",
    "            stack.pop() # O(1)\n",
    "        else : \n",
    "            stack.append(s) # O(1)\n",
    "    return int(not stack) # 스택이 비어있으면 1을 반환, 비어있지 않으면 0을 반환 "
   ]
  },
  {
   "cell_type": "code",
   "execution_count": 19,
   "metadata": {},
   "outputs": [
    {
     "name": "stdout",
     "output_type": "stream",
     "text": [
      "1\n",
      "0\n"
     ]
    }
   ],
   "source": [
    "print(solution('baabaa'))\n",
    "print(solution('cdcd'))"
   ]
  },
  {
   "cell_type": "markdown",
   "metadata": {},
   "source": [
    "### 문제12 - 주식가격\n",
    "- 권장 시간복잡도 : O(N) <br>\n",
    "\n",
    "\n",
    "[문제풀이]\n",
    "- 값이 오르는 경우 모두 스택에다가 넣음\n",
    "- 값이 떨어지는 경우 현시점 보다 이전에 지금 가격보다 큰 값들을 다 pop 해주면 됨 \n",
    "    - while문을 사용하면 O(N)으로 시간복잡도를 유지할수 있음. "
   ]
  },
  {
   "cell_type": "code",
   "execution_count": 6,
   "metadata": {},
   "outputs": [],
   "source": [
    "def solution(prices):\n",
    "    answer = [0]*len(prices)\n",
    "    stack = []\n",
    "    for time, p in enumerate(prices): # 가격 리스트 순회 - O(N)\n",
    "        # 가격이 떨어지는 경우 : 현재 가격이후 가격이 떨어지는 순간이 한번이라도 있으면 stack에서 pop\n",
    "        while stack and prices[stack[-1]] > p: # 스택이 비어있지 않고, 스택의 마지막요소의 가격이 현 시점보다 큰 경우\n",
    "            past = stack.pop() # 스택에서 마지막 요소 pop\n",
    "            answer[past] = time - past # 해당 아이템의 시간 빼주기 \n",
    "        \n",
    "        stack.append(time) # 값이 오르는 경우 모두 스택에다가 추가 \n",
    "    \n",
    "    #끝까지 가격이 안떨어지는 상품들은 마지막에 pop 해주고, 시간계산 - O(N)\n",
    "    while stack:\n",
    "        i = stack.pop()\n",
    "        answer[i] = len(prices)-1-i\n",
    "    \n",
    "    return answer"
   ]
  },
  {
   "cell_type": "code",
   "execution_count": 2,
   "metadata": {},
   "outputs": [
    {
     "name": "stdout",
     "output_type": "stream",
     "text": [
      "[4, 3, 1, 1, 0]\n"
     ]
    }
   ],
   "source": [
    "print(solution([1, 2, 3, 2, 3]))"
   ]
  },
  {
   "cell_type": "markdown",
   "metadata": {},
   "source": [
    "### 문제13 - 크레인 인형뽑기\n",
    "- 권장 시간복잡도 : O(N^2+M) <br>\n",
    "\n",
    "[문제풀이]\n",
    "- moves 배열을 for 순회하는데 걸리는 시간 O(M)\n",
    "- board 배열을 numpy 배열로 변환하고 전치하는데 걸리는 시간 O(N^2)\n",
    "- Board를 탐색할 때 2차원 리스트를 순회하는것 보다 numpy 배열을 사용하는 것이 더 직관적이라고 생각해서 우선적으로 board를 numpy배열로 바꿈\n",
    "- moves 배열을 순회하면서 stack의 마지막 요소가 현재 move가 꺼낸 인형이랑 같으면 pop, 없어진 인형수인 count를 +2 하는 방식으로 구현\n",
    "- 만약 스택의 마지막 요소랑 지금 인형이 다르면 스택에 append  "
   ]
  },
  {
   "cell_type": "code",
   "execution_count": 56,
   "metadata": {},
   "outputs": [],
   "source": [
    "import numpy as np\n",
    "\n",
    "def solution(board, moves):\n",
    "    board = np.array(board).transpose() # numpy 배열로 전환 - O(N^2)\n",
    "    stack = [-1] # 빈 스택값은 -1로 시작 \n",
    "    answer = 0 # 없어진 인형 수\n",
    "    \n",
    "    for m in moves: # moves 배열 순회 - O(M)\n",
    "        for i, num in enumerate(board[m-1]): # 보드의 m-1 행의 가장 위의 요소에 접근\n",
    "            if num: # 해당 요소값이 0이 아니면 인형 꺼내기 \n",
    "                board[m-1][i] = 0 # 꺼낸 인형 0으로 대체\n",
    "                if num == stack[-1]: # 스택의 맨 위의 인형과 지금 꺼낸 인형이 같으면 \n",
    "                    stack.pop() # 스택에서 pop\n",
    "                    answer += 2 # 사라진 인형 개수 추가\n",
    "                    break\n",
    "                stack.append(num) # 스택의 맨 위의 인형과 꺼낸 인형이 다르면 스택에 추가 \n",
    "                break\n",
    " \n",
    "    \n",
    "    return answer\n",
    "                "
   ]
  },
  {
   "cell_type": "code",
   "execution_count": 63,
   "metadata": {},
   "outputs": [
    {
     "name": "stdout",
     "output_type": "stream",
     "text": [
      "4\n"
     ]
    }
   ],
   "source": [
    "moves = [1,5,3,5,1,2,1,4]\n",
    "board=[[0,0,0,0,0],[0,0,1,0,3],[0,2,5,0,1],[4,2,4,4,2],[3,5,1,3,1]]\n",
    "print(solution(board, moves))"
   ]
  },
  {
   "cell_type": "markdown",
   "metadata": {},
   "source": [
    "### 문제14 - 표 편집\n",
    "- 권장 시간복잡도 : O(N) <br>\n",
    "\n",
    "\n",
    "[정답풀이]\n"
   ]
  },
  {
   "cell_type": "code",
   "execution_count": 5,
   "metadata": {},
   "outputs": [],
   "source": [
    "def solution(n, k, cmd):\n",
    "    # 삭제된 행의 인덱스를 저장하는 리스트\n",
    "    deleted = []\n",
    "    \n",
    "    # 링크드리스트에서 각 행 위아래의 행의 인덱스를 저장하는 리스트\n",
    "    up = [i - 1 for i in range(n + 2)]\n",
    "    down = [i + 1 for i  in range(n + 1)]\n",
    "    \n",
    "    # 현재 위치를 나타내는 인덱스\n",
    "    k += 1 \n",
    "    \n",
    "    # 주어진 cmd 리스트를 하나씩 순회\n",
    "    for cmd_i in cmd:\n",
    "        # 현재 위치를 삭제하고 그 다음 위치로 이동\n",
    "        if cmd_i.startswith(\"C\"):\n",
    "            deleted.append(k) \n",
    "            up[down[k]] = up[k] \n",
    "            down[up[k]] = down[k]\n",
    "            k = up[k] if n < down[k] else down[up[k]]\n",
    "        # 가장 최근에 삭제된 행을 복원 \n",
    "        elif cmd_i.startswith('Z'):\n",
    "            restore = deleted.pop()\n",
    "            down[up[restore]] = restore\n",
    "            up[down[restore]] = restore  \n",
    "        # U 또는 D를 사용해서 현재 위치를 위아래로 이동\n",
    "        else:\n",
    "            action, num = cmd_i.split()\n",
    "            if action == 'U':\n",
    "                for _ in range(int(num)):\n",
    "                    k = up[k] \n",
    "            else:\n",
    "                for _ in range(int(num)):\n",
    "                    k = down[k] \n",
    "    #삭제된 행의 위치에 'X'를, 그렇지 않은 행의 위치에 'O'를 포함하는 문자열 반환 \n",
    "    answer = [\"O\"] * n\n",
    "    for i in deleted:\n",
    "        answer[i - 1] = 'X'\n",
    "    \n",
    "    return ''.join(answer)"
   ]
  },
  {
   "cell_type": "code",
   "execution_count": 8,
   "metadata": {},
   "outputs": [
    {
     "name": "stdout",
     "output_type": "stream",
     "text": [
      "OOOOXOOO\n",
      "OOXOXOOO\n"
     ]
    }
   ],
   "source": [
    "print(solution(8,2,[\"D 2\", \"C\", \"U 3\", \"C\", \"D 4\",\"C\", \"U 2\", \"Z\", \"Z\"]))\n",
    "print(solution(8,2,[\"D 2\", \"C\", \"U 3\", \"C\", \"D 4\",\"C\", \"U 2\", \"Z\", \"Z\", \"U 1\", \"C\"]))"
   ]
  },
  {
   "cell_type": "code",
   "execution_count": null,
   "metadata": {},
   "outputs": [],
   "source": []
  }
 ],
 "metadata": {
  "kernelspec": {
   "display_name": "base",
   "language": "python",
   "name": "python3"
  },
  "language_info": {
   "codemirror_mode": {
    "name": "ipython",
    "version": 3
   },
   "file_extension": ".py",
   "mimetype": "text/x-python",
   "name": "python",
   "nbconvert_exporter": "python",
   "pygments_lexer": "ipython3",
   "version": "3.9.13"
  }
 },
 "nbformat": 4,
 "nbformat_minor": 2
}
