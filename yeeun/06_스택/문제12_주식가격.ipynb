{
 "cells": [
  {
   "cell_type": "markdown",
   "metadata": {},
   "source": [
    "## **문제12 주식 가격**"
   ]
  },
  {
   "cell_type": "markdown",
   "metadata": {},
   "source": [
    "### 스택 사용 X"
   ]
  },
  {
   "cell_type": "code",
   "execution_count": null,
   "metadata": {},
   "outputs": [],
   "source": [
    "def solution(prices):\n",
    "    length = len(prices)\n",
    "    answer = [0] * length\n",
    "    \n",
    "    for i in range(length):\n",
    "        count = 0\n",
    "        \n",
    "        for j in range(i + 1, length):\n",
    "            count += 1 #가격이 떨어지지 않은 기간을 계산\n",
    "            #가격이 떨어진 경우 계산 X\n",
    "            if prices[j] < prices[i]:\n",
    "                break\n",
    "        \n",
    "        answer[i] = count #현재 가격의 가격이 떨어지지 않은 기간 저장\n",
    "    \n",
    "    return answer"
   ]
  },
  {
   "cell_type": "markdown",
   "metadata": {},
   "source": [
    "- 한계\n",
    "\n",
    "    1. 모든 가격 비교, 시간 복잡도 $O(n^2)$\n",
    "    2. 입력값이 많은 경우, 성능 저하"
   ]
  },
  {
   "cell_type": "markdown",
   "metadata": {},
   "source": [
    "### 스택 사용 O"
   ]
  },
  {
   "cell_type": "code",
   "execution_count": null,
   "metadata": {},
   "outputs": [],
   "source": [
    "def solution(prices):\n",
    "    length = len(prices)\n",
    "    stack = []\n",
    "    answer = [0] * length\n",
    "\n",
    "    for i in range(length):\n",
    "        #가격이 떨어진 경우\n",
    "        while stack and prices[i] < prices[stack[-1]]:\n",
    "            j = stack.pop() #스택에서 인덱스 제거\n",
    "            answer[j] = i - j #가격이 떨어진 기간 계산\n",
    "        \n",
    "        stack.append(i) #스택에 현재 가격의 인덱스 추가\n",
    "    \n",
    "    #남아있는 가격들의 가격이 떨어지지 않은 경우\n",
    "    while stack:\n",
    "        j = stack.pop() #스택에서 인덱스 제거\n",
    "        answer[j] = length - 1 -j #남은 기간 계산\n",
    "    \n",
    "    return answer"
   ]
  },
  {
   "cell_type": "markdown",
   "metadata": {},
   "source": [
    "- 각 가격에 대해 최대 한 번씩만 스택에 추가 또는 제거, 시간 복잡도 $O(n)$"
   ]
  }
 ],
 "metadata": {
  "language_info": {
   "name": "python"
  }
 },
 "nbformat": 4,
 "nbformat_minor": 2
}
