{
 "cells": [
  {
   "cell_type": "markdown",
   "metadata": {},
   "source": [
    "## **문제13 크레인 인형 뽑기 게임**"
   ]
  },
  {
   "cell_type": "code",
   "execution_count": null,
   "metadata": {},
   "outputs": [],
   "source": [
    "def solution(board, moves):\n",
    "    row = len(board)\n",
    "    col = len(board[0])\n",
    "    lines = [[] for _ in range(col)] #각 열에 대한 스택 생성\n",
    "    basket = []\n",
    "    answer = 0\n",
    "    \n",
    "    for i in range(row - 1, -1, -1): #start: row - 1, stop: -1, step: -1(역순)\n",
    "        for j in range(col):\n",
    "            if board[i][j]:\n",
    "                lines[j].append(board[i][j]) #각 열에 인형 추가\n",
    "    \n",
    "    for move in moves:\n",
    "        #해당하는 열에 인형이 있는 경우\n",
    "        if lines[move - 1]:\n",
    "            doll = lines[move - 1].pop() #doll 변수에 인형 저장\n",
    "            \n",
    "            #바구니에 인형이 있고 바구니 가장 위의 인형과 뽑은 인형이 같은 경우\n",
    "            if basket and basket[-1] == doll:\n",
    "                basket.pop() #바구니 가장 위의 인형 삭제\n",
    "                answer += 2 #삭제된 인형 갯수 계산\n",
    "            else:\n",
    "                basket.append(doll) #바구니에 뽑은 인형 추가 \n",
    "    \n",
    "    return answer"
   ]
  },
  {
   "cell_type": "markdown",
   "metadata": {},
   "source": [
    "### 개념\n",
    "\n",
    "- 반복문\n",
    "\n",
    "    ```Python\n",
    "    for i in range(stop)\n",
    "\n",
    "    for i in range(start, stop)\n",
    "    \n",
    "    for i in range(start, stop, step)\n",
    "    ```"
   ]
  }
 ],
 "metadata": {
  "language_info": {
   "name": "python"
  }
 },
 "nbformat": 4,
 "nbformat_minor": 2
}
