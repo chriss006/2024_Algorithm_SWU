{
 "cells": [
  {
   "cell_type": "markdown",
   "metadata": {},
   "source": [
    "## **문제05 행렬의곱셈**"
   ]
  },
  {
   "cell_type": "code",
   "execution_count": null,
   "metadata": {},
   "outputs": [],
   "source": [
    "def solution(arr1, arr2):\n",
    "    row1 =  len(arr1)\n",
    "    col1 = len(arr1[0])\n",
    "    row2 = len(arr2)\n",
    "    col2 = len(arr2[0])\n",
    "    \n",
    "    arr = [[0 for j in range(col2)] for i in range(row1)] #결과 저장\n",
    "    \n",
    "    for i in range(row1):\n",
    "        for j in range(col2):\n",
    "            for k in range(col1):\n",
    "                arr[i][j] += arr1[i][k] * arr2[k][j]\n",
    "    \n",
    "    return arr"
   ]
  },
  {
   "cell_type": "markdown",
   "metadata": {},
   "source": [
    "### 개념\n",
    "\n",
    "- 행렬의 곱셈\n",
    "\n",
    "   ex) arr1는 3X2 행렬, arr2는 2X2 행렬이라고 가정\n",
    "   \n",
    "   arr1 = [[a, b], [c, d], [e, f]]   \n",
    "   arr2 = [[g, h], [i, j]]   \n",
    "   \n",
    "   arr1 = $\\begin{bmatrix}\n",
    "      a & b \\\\\n",
    "      c & d \\\\  \n",
    "      e & f \n",
    "   \\end{bmatrix}$   \n",
    "   arr2 = $\\begin{bmatrix}\n",
    "      g & h \\\\\n",
    "      i & j \n",
    "   \\end{bmatrix}$\n",
    "   \n",
    "   arr1 X arr2 = $\\begin{bmatrix}\n",
    "      a*g+b*i & a*h+b*j \\\\\n",
    "      c*g+d*i & c*h+d*j \\\\\n",
    "      e*g+f*i & e*h+f*j \n",
    "   \\end{bmatrix}$"
   ]
  },
  {
   "cell_type": "markdown",
   "metadata": {},
   "source": [
    "### 코드 비교\n",
    "\n",
    "- 결과 저장 배열\n",
    "\n",
    "    1. 교재 코드\n",
    "        ```Python\n",
    "        arr = [[0] *col2 for _ in range(row1)]\n",
    "        ```\n",
    "    \n",
    "    2. 내 코드\n",
    "        ```Python\n",
    "        arr = [[0 for j in range(col2)] for i in range(row1)]\n",
    "        ```\n",
    "    \n",
    "    → 가독성 차이, 아래의 코드는 반복 변수인 i, j를 명시적으로 사용"
   ]
  }
 ],
 "metadata": {
  "language_info": {
   "name": "python"
  }
 },
 "nbformat": 4,
 "nbformat_minor": 2
}
