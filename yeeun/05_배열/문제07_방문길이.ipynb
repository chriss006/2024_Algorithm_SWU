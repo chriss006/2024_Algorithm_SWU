{
 "cells": [
  {
   "cell_type": "markdown",
   "metadata": {},
   "source": [
    "## **문제07 방문길이**"
   ]
  },
  {
   "cell_type": "code",
   "execution_count": null,
   "metadata": {},
   "outputs": [],
   "source": [
    "def solution(dirs):    \n",
    "    x, y = 0, 0 #시작 좌표를 (0, 0)으로 초기화\n",
    "    moved = set()\n",
    "    \n",
    "    for dir in dirs:\n",
    "        start = (x, y) #움직이기 전 좌표\n",
    "        \n",
    "        if dir == 'U':\n",
    "            y += 1\n",
    "        elif dir == 'D':\n",
    "            y -= 1\n",
    "        elif dir == 'R':\n",
    "            x += 1\n",
    "        elif dir == 'L':\n",
    "            x -= 1\n",
    "            \n",
    "        #좌표평면의 경계를 넘어간 경우 명령어 무시\n",
    "        if x < -5 or x > 5 or y < -5 or y > 5:\n",
    "            x, y = start\n",
    "            continue\n",
    "        \n",
    "        end = (x, y) #움직인 후 좌표\n",
    "        \n",
    "        if (start, end) not in moved and (end, start) not in moved:\n",
    "            moved.add((start, end))\n",
    "    \n",
    "    answer = len(moved)\n",
    "    \n",
    "    return answer\n"
   ]
  },
  {
   "cell_type": "markdown",
   "metadata": {},
   "source": [
    "- 조건\n",
    "\n",
    "1. 처음 걸어본 길만 계산\n",
    "    ```Python\n",
    "    moved = set() #걸어간 길 저장\n",
    "\n",
    "    #걸어갔던 길이거나 되돌아온 길이 아닌 경우(moved에 저장되어 있지 않은 경우)\n",
    "    if (start, end) not in moved and (end, start) not in moved:\n",
    "        moved.add((start, end)) #해당 길 저장\n",
    "    ```\n",
    "\n",
    "2. 좌표평면 위에서 움직인 길만 계산\n",
    "    ```Python\n",
    "    if x < -5 or x > 5 or y < -5 or y > 5:\n",
    "        x, y = start\n",
    "        continue\n",
    "    ```"
   ]
  }
 ],
 "metadata": {
  "language_info": {
   "name": "python"
  }
 },
 "nbformat": 4,
 "nbformat_minor": 2
}
