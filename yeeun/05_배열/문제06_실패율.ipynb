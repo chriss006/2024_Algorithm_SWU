{
 "cells": [
  {
   "cell_type": "markdown",
   "metadata": {},
   "source": [
    "## **문제06 실패율**"
   ]
  },
  {
   "cell_type": "code",
   "execution_count": null,
   "metadata": {},
   "outputs": [],
   "source": [
    "def solution(N, stages):\n",
    "    fail = [0] * (N + 2)\n",
    "\n",
    "    for stage in stages:\n",
    "        fail[stage] += 1\n",
    "\n",
    "    failure = [0] * N\n",
    "    arrive = len(stages)\n",
    "\n",
    "    for i in range(1, N + 1):\n",
    "        #스테이지에 도달한 플레이어가 있는 경우\n",
    "        if arrive > 0:\n",
    "            failure[i - 1] = fail[i] / arrive #실패율 계산\n",
    "            arrive -= fail[i] #다음 스테이지의 실패율 계산을 위해 현재 스테이지의 플레이어 수 차감\n",
    "        else:\n",
    "            failure[i - 1] = 0\n",
    "\n",
    "    #실패율이 높은 스테이지부터 내림차순 정렬\n",
    "    #실패율이 같은 스테이지가 있는 경우, 작은 번호의 스테이지 먼저 정렬\n",
    "    answer = sorted(range(N), key=lambda x: (failure[x], -x), reverse=True)\n",
    "    answer = [x + 1 for x in answer]\n",
    "    \n",
    "    return answer"
   ]
  }
 ],
 "metadata": {
  "language_info": {
   "name": "python"
  }
 },
 "nbformat": 4,
 "nbformat_minor": 2
}
