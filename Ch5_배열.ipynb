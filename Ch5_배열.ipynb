{
  "cells": [
    {
      "cell_type": "markdown",
      "metadata": {
        "id": "hrRYGsXwdZS7"
      },
      "source": [
        "## **문제2 : 배열 제어하기**\n",
        "- 권장 시간복잡도 : O(NlogN)"
      ]
    },
    {
      "cell_type": "code",
      "execution_count": null,
      "metadata": {
        "id": "AIttGd3kdWEW"
      },
      "outputs": [],
      "source": [
        "def solution (arr):\n",
        "    new_arr = list(set(arr)) # 중복값 제거 - O(N)\n",
        "    new_arr.sort(reverse=True) # 내림차순 정렬 - O(NlogN)\n",
        "    return new_arr"
      ]
    },
    {
      "cell_type": "code",
      "execution_count": null,
      "metadata": {
        "colab": {
          "base_uri": "https://localhost:8080/"
        },
        "id": "cfyIR-Zcd9Tk",
        "outputId": "791feb1a-24c1-4452-a3b5-ad73aeac3d1d"
      },
      "outputs": [
        {
          "name": "stdout",
          "output_type": "stream",
          "text": [
            "[4, 3, 2, 1]\n",
            "[5, 4, 3, 2, 1]\n"
          ]
        }
      ],
      "source": [
        "print(solution([4, 2, 2, 1, 3, 4]))\n",
        "print(solution([2, 1 ,1, 3, 2, 5, 4]))"
      ]
    },
    {
      "cell_type": "markdown",
      "metadata": {
        "id": "PFOFJodKeQO1"
      },
      "source": [
        "- set() : 중복값을 제거하는 내장함수, 시간복잡도 O(N)"
      ]
    },
    {
      "cell_type": "markdown",
      "metadata": {
        "id": "MJAgXfJVe3X_"
      },
      "source": [
        "## **문제 3 : 두 개 뽑아서 더하기**\n",
        "- 권장 시간복잡도 : O(N^2log(N^2))\n",
        "\n"
      ]
    },
    {
      "cell_type": "code",
      "execution_count": 114,
      "metadata": {
        "colab": {
          "base_uri": "https://localhost:8080/"
        },
        "id": "JcyjkQvDlxKV",
        "outputId": "ec46eaf8-0ede-4955-8ecd-fe7a64d30be5"
      },
      "outputs": [],
      "source": [
        "from itertools import combinations\n",
        "\n",
        "def solution(numbers):\n",
        "  result = list(combinations(numbers,2))\n",
        "  answer = []\n",
        "  for i in result:\n",
        "    answer.append(i[0]+i[1])\n",
        "\n",
        "  return list(set(answer))\n"
      ]
    },
    {
      "cell_type": "code",
      "execution_count": 115,
      "metadata": {
        "colab": {
          "base_uri": "https://localhost:8080/"
        },
        "id": "R5Lf4ncUePUr",
        "outputId": "fcfdc7b2-e377-4ca0-c2cf-1547d925ca46"
      },
      "outputs": [],
      "source": [
        "def solution(numbers):\n",
        "  answer=[]\n",
        "  for i in range(len(numbers)):\n",
        "    for j in range(i+1, len(numbers)):\n",
        "      answer.append(numbers[i]+numbers[j])\n",
        "\n",
        "  return sorted(list(set(answer)))\n"
      ]
    },
    {
      "cell_type": "code",
      "execution_count": null,
      "metadata": {
        "colab": {
          "base_uri": "https://localhost:8080/"
        },
        "id": "LtX_rK3-g6Ki",
        "outputId": "db18f537-454c-496b-83ba-e660229df357"
      },
      "outputs": [
        {
          "name": "stdout",
          "output_type": "stream",
          "text": [
            "[2, 3, 4, 5, 6, 7]\n",
            "[2, 5, 7, 9, 12]\n"
          ]
        }
      ],
      "source": [
        "print(solution([2, 1, 3, 4, 1]))\n",
        "print(solution([5, 0, 2, 7]))"
      ]
    },
    {
      "cell_type": "markdown",
      "metadata": {
        "id": "i6962IMfl4z5"
      },
      "source": [
        "## **문제 6: 실패율**\n",
        "- 권장 시간복잡도 : O(M+NlogN)\n",
        "- 첫번째 풀이 시간 복잡도 : O(M*N)"
      ]
    },
    {
      "cell_type": "code",
      "execution_count": 107,
      "metadata": {
        "id": "18V5hunul7Qe"
      },
      "outputs": [],
      "source": [
        "def solution(N, stages):\n",
        "    result = {}\n",
        "    cleared= len(stages)\n",
        "    for _ in range(1, N+1): # 스테이지 1 ~ N+1까지 순회 - O(M * N)\n",
        "        failed = stages.count(_) #  스테이지 별 실패 인원 세기 - O(M)\n",
        "        result[_] = failed / cleared if stages.count(_)!= 0 else 0 # 실패율 구하기 \n",
        "        cleared -= failed # 현 스테이지에서 머무른 인원 제거 \n",
        "    return sorted(result, key=result.get, reverse=True) # 내림차순 정렬 - O(NlogN)\n"
      ]
    },
    {
      "cell_type": "code",
      "execution_count": 113,
      "metadata": {},
      "outputs": [
        {
          "name": "stdout",
          "output_type": "stream",
          "text": [
            "[3, 4, 2, 1, 5]\n",
            "[4, 1, 2, 3]\n"
          ]
        }
      ],
      "source": [
        "print(solution(5, [2, 1, 2, 6, 2, 4, 3, 3]))\n",
        "print(solution(4, [4, 4, 4, 4, 4]))"
      ]
    },
    {
      "cell_type": "markdown",
      "metadata": {},
      "source": [
        "- count() 함수 사용하지 않고, 스테이지별 실패 인원을 세야함 \n",
        "- sol) for문을 사용해서 스테이지별 도전자수 기록한 배열을 따로 구하기 - index로 접근"
      ]
    },
    {
      "cell_type": "code",
      "execution_count": 110,
      "metadata": {},
      "outputs": [],
      "source": [
        "def solution(N, stages):\n",
        "    result = {}\n",
        "    cleared = len(stages)\n",
        "    \n",
        "    # 스테이지별 도전자 수 구하기 \n",
        "    challenger = [0] * (N + 2)  \n",
        "    # 각 스테이지에 도달한 인원을 기록 - O(M)\n",
        "    for stage in stages:\n",
        "        challenger[stage] += 1\n",
        "    # 실패율 구하기 - O(N)\n",
        "    for _ in range(1, N+1):\n",
        "        result[_] = challenger[_] / cleared if challenger[_] != 0 else 0\n",
        "        cleared -= challenger[_]\n",
        "    \n",
        "    return sorted(result, key=result.get, reverse=True) # 내림차순 정렬 - O(NlogN)"
      ]
    },
    {
      "cell_type": "markdown",
      "metadata": {
        "id": "6MEJzbuJl73N"
      },
      "source": [
        "## **문제 7: 방문 길이**\n",
        "\n",
        "* 권장 시간복잡도 : O(N)"
      ]
    },
    {
      "cell_type": "code",
      "execution_count": 131,
      "metadata": {
        "id": "wDhQzrwGl9Hq"
      },
      "outputs": [],
      "source": [
        "# 좌표평면에서 위치 반환 \n",
        "def update_location(x, y, dirs): \n",
        "    for i in dirs:\n",
        "        if i == 'U':\n",
        "            nx, ny = x, y+1\n",
        "        elif i == 'D':\n",
        "            nx, ny = x, y-1\n",
        "        elif i =='L':\n",
        "            nx, ny = x-1, y\n",
        "        elif i == 'R':\n",
        "            nx, ny = x+1, y\n",
        "    \n",
        "    return nx, ny\n",
        "\n",
        "# 좌표평면 범위 체크\n",
        "def validate_move(nx, ny):\n",
        "    return 0 <= nx <11 and 0 <= ny < 11\n",
        "\n",
        "def solution(dirs):\n",
        "    answer = set()\n",
        "    x, y = 5, 5 # 원점 \n",
        "    \n",
        "    for dir in dirs:\n",
        "        nx, ny = update_location(x, y, dir)\n",
        "        if not validate_move(nx, ny):\n",
        "            continue\n",
        "    \n",
        "        answer.add((x, y, nx, ny))\n",
        "        answer.add((nx, ny, x, y))\n",
        "        x, y = nx, ny\n",
        "    print(answer)\n",
        "    return len(answer)/2\n",
        "    \n",
        "    \n",
        "    \n",
        "    \n",
        "    return answer"
      ]
    },
    {
      "cell_type": "code",
      "execution_count": 132,
      "metadata": {},
      "outputs": [
        {
          "name": "stdout",
          "output_type": "stream",
          "text": [
            "{(5, 6, 4, 6), (4, 6, 4, 7), (5, 6, 5, 5), (5, 7, 4, 7), (5, 7, 6, 7), (5, 6, 6, 6), (4, 6, 5, 6), (4, 7, 5, 7), (6, 7, 6, 6), (5, 5, 5, 6), (6, 6, 6, 7), (4, 7, 4, 6), (6, 6, 5, 6), (6, 7, 5, 7)}\n",
            "7.0\n",
            "{(4, 5, 4, 6), (0, 6, 1, 6), (0, 7, 0, 6), (4, 5, 5, 5), (3, 6, 2, 6), (3, 6, 4, 6), (2, 6, 1, 6), (4, 6, 4, 5), (4, 6, 3, 6), (1, 6, 2, 6), (0, 6, 0, 7), (2, 6, 3, 6), (5, 5, 4, 5), (1, 6, 0, 6)}\n",
            "7.0\n"
          ]
        }
      ],
      "source": [
        "print(solution('ULURRDLLU'))\n",
        "print(solution('LULLLLLU'))"
      ]
    },
    {
      "cell_type": "code",
      "execution_count": null,
      "metadata": {},
      "outputs": [],
      "source": []
    }
  ],
  "metadata": {
    "colab": {
      "provenance": []
    },
    "kernelspec": {
      "display_name": "Python 3",
      "name": "python3"
    },
    "language_info": {
      "codemirror_mode": {
        "name": "ipython",
        "version": 3
      },
      "file_extension": ".py",
      "mimetype": "text/x-python",
      "name": "python",
      "nbconvert_exporter": "python",
      "pygments_lexer": "ipython3",
      "version": "3.9.13"
    }
  },
  "nbformat": 4,
  "nbformat_minor": 0
}
